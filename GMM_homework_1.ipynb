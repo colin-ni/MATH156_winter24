{
 "cells": [
  {
   "cell_type": "code",
   "execution_count": 13,
   "id": "83b93f88",
   "metadata": {},
   "outputs": [
    {
     "ename": "SyntaxError",
     "evalue": "invalid syntax (994718573.py, line 25)",
     "output_type": "error",
     "traceback": [
      "\u001b[0;36m  Cell \u001b[0;32mIn[13], line 25\u001b[0;36m\u001b[0m\n\u001b[0;31m    weighted_likelihoods = #multiply likelihoods by weights\u001b[0m\n\u001b[0m                           ^\u001b[0m\n\u001b[0;31mSyntaxError\u001b[0m\u001b[0;31m:\u001b[0m invalid syntax\n"
     ]
    }
   ],
   "source": [
    "import numpy as np\n",
    "from scipy.stats import multivariate_normal\n",
    "\n",
    "class GaussianMixtureModel:\n",
    "    def __init__(self, n_components=2, max_iter=100, tol=1e-3):\n",
    "        self.n_components = n_components #number of classes K\n",
    "        self.max_iter = max_iter #max number of iterations to run\n",
    "        self.tol = tol #tolerance value under which to stop iterations\n",
    "        \n",
    "        self.weights = None #there are our pi_1, . . . , pi_K\n",
    "        self.means = None #these are our vectors mu_1, . . . ,mu_K\n",
    "        self.covariances = None #these are our covariance matrices Sigma_1,  . . . , Sigma_K\n",
    "\n",
    "    def initialize_parameters(self, X):\n",
    "        \"\"\"This function initialize the paramters of the GMM\"\"\"\n",
    "        n_samples, _ = X.shape\n",
    "        self.weights = np.ones(self.n_components) / self.n_components\n",
    "        self.means = X[np.random.choice(n_samples, self.n_components, replace=False)]\n",
    "        self.covariances = [np.cov(X.T) for _ in range(self.n_components)]\n",
    "\n",
    "    def expectation_step(self, X):\n",
    "        \"\"\"complete this function so that it returns the responsibilities\"\"\"\n",
    "        #calculate the vector of 'likelihoods' for every data point, likelihoods will have dimension (n_samples, n_components)\n",
    "        likelihoods = np.array([multivariate_normal.pdf(X, mean, cov) for mean, cov in zip(self.means, self.covariances)]).T\n",
    "        weighted_likelihoods = #multiply likelihoods by weights\n",
    "        responsibilities = #get responsibilities\n",
    "        return responsibilities\n",
    "\n",
    "    def maximization_step(self, X, responsibilities):\n",
    "        \"\"\"complete this function that updates means, covariances and weights\"\"\"\n",
    "        \n",
    "        total_responsibilities = # get the number N_m, m = 1, . . ., K\n",
    "        \n",
    "\n",
    "        self.means = #update the means \n",
    "\n",
    "        self.covariances = []\n",
    "        for m in range(self.n_components):\n",
    "            diff = X - self.means[m]\n",
    "            cov_m = #update the covariances\n",
    "            self.covariances.append(cov_m)\n",
    "            \n",
    "        self.weights = #update the weights by dividing total_responsibilities by the number of samples\n",
    "            \n",
    "    def compute_logLikelihood(self, X):\n",
    "        likelihoods = np.array([multivariate_normal.pdf(X, mean, cov) for mean, cov in zip(self.means, self.covariances)]).T\n",
    "        weighted_likelihoods = self.weights * likelihoods\n",
    "        log_likelihood = np.sum(np.log(np.sum(weighted_likelihoods, axis=1)))\n",
    "        return log_likelihood\n",
    "\n",
    "    def fit(self, X):\n",
    "        self.initialize_parameters(X)\n",
    "        \n",
    "        \n",
    "        for i in range(self.max_iter):\n",
    "            old_log_likelihood = self.compute_logLikelihood(X)\n",
    "\n",
    "            responsibilities = self.expectation_step(X) #Expectation Step\n",
    "            self.maximization_step(X, responsibilities) #Maximization Step\n",
    "            \n",
    "            new_log_likelihood = self.compute_logLikelihood(X)\n",
    "            \n",
    "            # Check for convergence of the log_likelihood\n",
    "            if np.abs(old_log_likelihood - new_log_likelihood) < self.tol:\n",
    "                break\n",
    "\n",
    "    def predict(self, X):\n",
    "        likelihoods = np.array([multivariate_normal.pdf(X, mean, cov) for mean, cov in zip(self.means, self.covariances)]).T\n",
    "        return np.argmax(likelihoods, axis=1)"
   ]
  },
  {
   "cell_type": "code",
   "execution_count": 12,
   "id": "ba5e3aca",
   "metadata": {},
   "outputs": [
    {
     "ename": "NameError",
     "evalue": "name 'np' is not defined",
     "output_type": "error",
     "traceback": [
      "\u001b[0;31m---------------------------------------------------------------------------\u001b[0m",
      "\u001b[0;31mNameError\u001b[0m                                 Traceback (most recent call last)",
      "Cell \u001b[0;32mIn[12], line 3\u001b[0m\n\u001b[1;32m      1\u001b[0m \u001b[38;5;66;03m### DO NOT CHANGE THIS PART\u001b[39;00m\n\u001b[0;32m----> 3\u001b[0m \u001b[43mnp\u001b[49m\u001b[38;5;241m.\u001b[39mrandom\u001b[38;5;241m.\u001b[39mseed(\u001b[38;5;241m0\u001b[39m)\n\u001b[1;32m      4\u001b[0m num_samples \u001b[38;5;241m=\u001b[39m \u001b[38;5;241m1000\u001b[39m\n\u001b[1;32m      5\u001b[0m num_features \u001b[38;5;241m=\u001b[39m \u001b[38;5;241m2\u001b[39m\n",
      "\u001b[0;31mNameError\u001b[0m: name 'np' is not defined"
     ]
    }
   ],
   "source": [
    "### DO NOT CHANGE THIS PART\n",
    "\n",
    "np.random.seed(0)\n",
    "num_samples = 1000\n",
    "num_features = 2\n",
    "num_components = 3\n",
    "means = np.array([[2, 2], [8, 3], [3, 6]])\n",
    "covariances = np.array([[[1, 0.5], [0.5, 1]], [[1, 0], [0, 1]], [[0.5, 0], [0, 0.5]]])\n",
    "weights = np.array([0.4, 0.3, 0.3])\n",
    "\n",
    "X = np.zeros((num_samples, num_features))\n",
    "for i in range(num_components):\n",
    "    num_samples_i = int(weights[i] * num_samples)\n",
    "    X[i * num_samples_i: (i + 1) * num_samples_i] = np.random.multivariate_normal(means[i], covariances[i], num_samples_i)\n",
    "\n",
    "# Fit Gaussian Mixture Model\n",
    "gmm = GaussianMixtureModel(n_components=num_components)\n",
    "gmm.fit(X)\n",
    "\n",
    "# Predict cluster probabilities \n",
    "predicted_lab = gmm.predict(X)\n",
    "\n",
    "import matplotlib.pyplot as plt\n",
    "plt.scatter(X[:, 0], X[:, 1], c=predicted_lab, cmap='viridis', alpha=0.6)\n",
    "\n",
    "\n",
    "plt.xlabel('Feature 1')\n",
    "plt.ylabel('Feature 2')\n",
    "plt.title('Gaussian Mixture Model Clustering')\n",
    "plt.colorbar()\n",
    "plt.show()"
   ]
  },
  {
   "cell_type": "code",
   "execution_count": null,
   "id": "62957c58",
   "metadata": {},
   "outputs": [],
   "source": []
  }
 ],
 "metadata": {
  "kernelspec": {
   "display_name": "Python 3 (ipykernel)",
   "language": "python",
   "name": "python3"
  },
  "language_info": {
   "codemirror_mode": {
    "name": "ipython",
    "version": 3
   },
   "file_extension": ".py",
   "mimetype": "text/x-python",
   "name": "python",
   "nbconvert_exporter": "python",
   "pygments_lexer": "ipython3",
   "version": "3.9.6"
  }
 },
 "nbformat": 4,
 "nbformat_minor": 5
}
