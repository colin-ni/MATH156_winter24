{
 "cells": [
  {
   "cell_type": "code",
   "execution_count": null,
   "id": "f26cc20a-4f93-4d50-abeb-ee7f6281cfa4",
   "metadata": {},
   "outputs": [],
   "source": [
    "import random\n",
    "import math\n",
    "import numpy as np\n",
    "import matplotlib.pyplot as plt\n",
    "\n",
    "from collections import defaultdict"
   ]
  },
  {
   "cell_type": "code",
   "execution_count": null,
   "id": "23528366-8d3a-465c-ab0d-ac9715b4b5a7",
   "metadata": {},
   "outputs": [],
   "source": [
    "# Let us create three datasets. The first is a toy one, the second consists\n",
    "# of blobs of points, and the second consists of concentric circles.\n",
    "\n",
    "blob = lambda x, y, stddev, n_samples: list(zip(\n",
    "    np.random.normal(x, stddev, n_samples),\n",
    "    np.random.normal(y, stddev, n_samples)\n",
    "))\n",
    "\n",
    "circle = lambda x, y, stddev, radius, n_samples: [\n",
    "    (\n",
    "        x + radius * math.cos(2 * math.pi * i / n_samples) + np.random.normal(0, stddev),\n",
    "        y + radius * math.sin(2 * math.pi * i / n_samples) + np.random.normal(0, stddev)\n",
    "    )\n",
    "    for i in range(n_samples)\n",
    "]"
   ]
  },
  {
   "cell_type": "code",
   "execution_count": null,
   "id": "5c3f3a5a-9d79-4d47-8619-6665215a96f5",
   "metadata": {},
   "outputs": [],
   "source": [
    "birthday_dataset = [(0, 0), (0, 10), (10, 0), (10, 10), (420, 420), (420, 430), (430, 420), (430, 430)]\n",
    "plt.scatter(*zip(*birthday_dataset), s=10, color='black')\n",
    "plt.show()"
   ]
  },
  {
   "cell_type": "code",
   "execution_count": null,
   "id": "defec956-92cf-42f5-be95-1d6f3299a190",
   "metadata": {},
   "outputs": [],
   "source": [
    "blobs = sum((blob(x, y, 1, 200) for x, y in [(0, 0), (3, 3), (-3, 3), (-3, -3), (3, -3)]), start=[])\n",
    "plt.scatter(*zip(*blobs), s=10, color='black')\n",
    "plt.show()"
   ]
  },
  {
   "cell_type": "code",
   "execution_count": null,
   "id": "7bd06a93-01ab-4515-a343-f7f9ffc4b8a2",
   "metadata": {},
   "outputs": [],
   "source": [
    "circles = sum((circle(0, 0, 0.1, radius, radius * 50) for radius in [1, 3, 5]), start=[])\n",
    "plt.scatter(*zip(*circles), s=10, color='black')\n",
    "plt.show()"
   ]
  },
  {
   "cell_type": "code",
   "execution_count": null,
   "id": "36ae96f2-1815-4f7f-992e-b233113d2f10",
   "metadata": {},
   "outputs": [],
   "source": [
    "def display_clusters(clusters):\n",
    "    # get len(clusters) spaced out colors\n",
    "    colors = plt.get_cmap('Accent')(np.linspace(0, 1, len(clusters)))\n",
    "    for (cluster_center, cluster), color in zip(clusters.items(), colors):\n",
    "        # plot the cluster center using a big marker\n",
    "        plt.scatter(*cluster_center, s=1000, color=color, alpha=0.2)\n",
    "        # plot the cluster points using small markers\n",
    "        plt.scatter(*zip(*cluster), s=10, color=color)\n",
    "    plt.show()\n",
    "\n",
    "def compute_clusters(X, cluster_centers):\n",
    "    '''\n",
    "    Given fixed cluster centers, computes the clusters of each cluster center c\n",
    "    with respect to X, i.e. the set of points whose nearest cluster center is c.\n",
    "    \n",
    "    Returns:\n",
    "        clusters (dict): the clusters as sets of points (tuples of floats),\n",
    "            keyed by their cluster center\n",
    "    '''\n",
    "    X, cluster_centers = np.array(X), np.array(cluster_centers)\n",
    "    # TODO: Implement this, and use the following two cells to ensure it works.\n",
    "    #     We will probably do this together because numpy is hard."
   ]
  },
  {
   "cell_type": "code",
   "execution_count": null,
   "id": "742ec446-96ae-480b-8e81-6abb86021120",
   "metadata": {},
   "outputs": [],
   "source": [
    "# The bottom-left points should be green, and the top-right points should be gray\n",
    "display_clusters(compute_clusters(birthday_dataset, [(110, 210), (310, 210)]))"
   ]
  },
  {
   "cell_type": "code",
   "execution_count": null,
   "id": "6dd7ad69-41f9-4645-a218-e78f5cb8f332",
   "metadata": {},
   "outputs": [],
   "source": [
    "# Here are some tests for `compute_clusters`\n",
    "assert compute_clusters(birthday_dataset, [(5, 5), (425, 425)]) == {\n",
    "    (5, 5): {(0, 0), (0, 10), (10, 0), (10, 10)},\n",
    "    (425, 425): {(420, 420), (420, 430), (430, 420), (430, 430)}\n",
    "}\n",
    "assert compute_clusters(birthday_dataset, [(210, 210)]) == {\n",
    "    (210, 210): set(birthday_dataset)\n",
    "}\n",
    "assert compute_clusters(birthday_dataset, birthday_dataset) == {\n",
    "    point: {point}\n",
    "    for point in birthday_dataset\n",
    "}\n",
    "assert compute_clusters(birthday_dataset, [(110, 210), (310, 210)]) == {\n",
    "    (110, 210): {(0, 0), (0, 10), (10, 0), (10, 10)},\n",
    "    (310, 210): {(420, 420), (420, 430), (430, 420), (430, 430)}\n",
    "}"
   ]
  },
  {
   "cell_type": "code",
   "execution_count": null,
   "id": "bc7db220-d890-40c6-979f-f58556da9a27",
   "metadata": {},
   "outputs": [],
   "source": [
    "# TODO: Make a `KMeans` class that implements the KMeans algorithm and passes\n",
    "#    the tests in the following cell. In particular, your implementation\n",
    "#    should basically live in the `__init__` method and should store the\n",
    "#    results in `converged` and `clusters` attributes."
   ]
  },
  {
   "cell_type": "code",
   "execution_count": null,
   "id": "f7559ccc-bcc0-47e5-bfe5-f1ae46e12d33",
   "metadata": {},
   "outputs": [],
   "source": [
    "# Here are some tests for the KMeans class\n",
    "kmeans_birthday = KMeans(birthday_dataset, 2)\n",
    "assert kmeans_birthday.converged\n",
    "assert kmeans_birthday.clusters == {\n",
    "    (5, 5): {(0, 0), (0, 10), (10, 0), (10, 10)},\n",
    "    (425, 425): {(420, 420), (420, 430), (430, 420), (430, 430)}\n",
    "}\n",
    "\n",
    "kmeans_one_iteration = KMeans(blobs, 5, max_iter=1)\n",
    "assert not kmeans_one_iteration.converged"
   ]
  },
  {
   "cell_type": "code",
   "execution_count": null,
   "id": "f199564e-95fb-46bf-aae6-4bfc92adcc91",
   "metadata": {},
   "outputs": [],
   "source": [
    "kmeans_blobs = KMeans(blobs, 5)\n",
    "print(f'{kmeans_blobs.converged=}')\n",
    "display_clusters(kmeans_blobs.clusters)"
   ]
  },
  {
   "cell_type": "code",
   "execution_count": null,
   "id": "92e3dc70-0ee0-4a87-820c-b04997b25882",
   "metadata": {},
   "outputs": [],
   "source": [
    "kmeans_circles = KMeans(circles, 3)\n",
    "print(f'{kmeans_circles.converged=}')\n",
    "display_clusters(kmeans_circles.clusters)"
   ]
  }
 ],
 "metadata": {
  "kernelspec": {
   "display_name": "Python 3 (ipykernel)",
   "language": "python",
   "name": "python3"
  },
  "language_info": {
   "codemirror_mode": {
    "name": "ipython",
    "version": 3
   },
   "file_extension": ".py",
   "mimetype": "text/x-python",
   "name": "python",
   "nbconvert_exporter": "python",
   "pygments_lexer": "ipython3",
   "version": "3.8.3"
  }
 },
 "nbformat": 4,
 "nbformat_minor": 5
}
