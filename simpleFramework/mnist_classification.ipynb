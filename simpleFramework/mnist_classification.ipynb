{
 "cells": [
  {
   "cell_type": "code",
   "execution_count": 1,
   "id": "acdaa78e",
   "metadata": {},
   "outputs": [],
   "source": [
    "import numpy as np\n",
    "import layers\n",
    "import activations\n",
    "import nn\n",
    "import losses\n",
    "import optimizers"
   ]
  },
  {
   "cell_type": "code",
   "execution_count": null,
   "id": "8290b0fc",
   "metadata": {},
   "outputs": [],
   "source": []
  },
  {
   "cell_type": "code",
   "execution_count": 2,
   "id": "748e870c",
   "metadata": {},
   "outputs": [
    {
     "name": "stdout",
     "output_type": "stream",
     "text": [
      "Epoch 0, Loss: 0.03907457312270098\n",
      "Epoch 1, Loss: 0.041593801192322914\n",
      "Epoch 2, Loss: 0.029078403841272412\n",
      "Epoch 3, Loss: 0.03125748839751495\n",
      "Epoch 4, Loss: 0.026877277929988612\n",
      "Epoch 5, Loss: 0.03143885576866159\n",
      "Epoch 6, Loss: 0.030569745552836793\n",
      "Epoch 7, Loss: 0.024251981063715088\n",
      "Epoch 8, Loss: 0.024508843210232237\n",
      "Epoch 9, Loss: 0.028390314934376954\n"
     ]
    },
    {
     "name": "stderr",
     "output_type": "stream",
     "text": [
      "/Users/jonalelmi/Documents/Teaching/ML2324/simpleFramework/activations.py:9: RuntimeWarning: overflow encountered in exp\n",
      "  self.output = 1 / (1 + np.exp(-z))\n"
     ]
    },
    {
     "name": "stdout",
     "output_type": "stream",
     "text": [
      "Epoch 10, Loss: 0.027984722419959727\n",
      "Epoch 11, Loss: 0.022799514706761788\n",
      "Epoch 12, Loss: 0.022383539479546095\n",
      "Epoch 13, Loss: 0.02693370786267313\n",
      "Epoch 14, Loss: 0.023902434622459126\n",
      "Epoch 15, Loss: 0.02462238146766446\n",
      "Epoch 16, Loss: 0.026394031400824407\n",
      "Epoch 17, Loss: 0.024449005416208543\n",
      "Epoch 18, Loss: 0.02487668972541602\n",
      "Epoch 19, Loss: 0.025384202084495665\n",
      "Epoch 20, Loss: 0.019585446675664944\n",
      "Epoch 21, Loss: 0.01991732266686728\n",
      "Epoch 22, Loss: 0.021683719035016882\n",
      "Epoch 23, Loss: 0.021065367534559905\n",
      "Epoch 24, Loss: 0.01928113459222009\n",
      "Epoch 25, Loss: 0.018714640660253058\n",
      "Epoch 26, Loss: 0.017656353977083403\n",
      "Epoch 27, Loss: 0.019513262497391222\n",
      "Epoch 28, Loss: 0.02105254161855226\n",
      "Epoch 29, Loss: 0.017610648541589977\n",
      "Accuracy: 0.9618\n"
     ]
    }
   ],
   "source": [
    "from tensorflow.keras.datasets import mnist\n",
    "import numpy as np\n",
    "\n",
    "# Load and preprocess the MNIST dataset\n",
    "(X_train, y_train), (X_test, y_test) = mnist.load_data()\n",
    "X_train = X_train.reshape(-1, 784) / 255.0\n",
    "X_test = X_test.reshape(-1, 784) / 255.0\n",
    "\n",
    "# Convert labels to one-hot encoded vectors\n",
    "def one_hot_encode(labels, num_classes):\n",
    "    num_samples = labels.shape[0]\n",
    "    encoded_labels = np.zeros((num_samples, num_classes))\n",
    "    for i in range(num_samples):\n",
    "        encoded_labels[i, labels[i]] = 1\n",
    "    return encoded_labels\n",
    "\n",
    "num_classes = 10\n",
    "y_train_one_hot = one_hot_encode(y_train, num_classes)\n",
    "y_test_one_hot = one_hot_encode(y_test, num_classes)\n",
    "\n",
    "\n",
    "# Create the model\n",
    "input_size = 784\n",
    "num_units = 128\n",
    "model = nn.Sequential()\n",
    "model.add(layers.InputLayer(input_shape=input_size))\n",
    "model.add(layers.Dense(input_size, num_units, activation=activations.Sigmoid, optimizer=optimizers.RMSprop))\n",
    "model.add(layers.Dense(num_units, num_classes, activation=activations.Softmax, optimizer=optimizers.RMSprop))\n",
    "\n",
    "# Train the model\n",
    "epochs = 30\n",
    "learning_rate = 0.1\n",
    "batch_size = 128\n",
    "model.train(X_train.T, y_train_one_hot.T, epochs, learning_rate, batch_size, loss=losses.Cross_Entropy)\n",
    "\n",
    "# Make predictions\n",
    "predictions = model.predict(X_test.T)\n",
    "\n",
    "# Convert predictions to class labels\n",
    "predicted_labels = np.argmax(predictions, axis=0)\n",
    "\n",
    "# Calculate accuracy\n",
    "accuracy = np.mean(predicted_labels == y_test)\n",
    "print(\"Accuracy:\", accuracy)"
   ]
  },
  {
   "cell_type": "code",
   "execution_count": null,
   "id": "37840c7d",
   "metadata": {},
   "outputs": [],
   "source": []
  }
 ],
 "metadata": {
  "kernelspec": {
   "display_name": "Python 3 (ipykernel)",
   "language": "python",
   "name": "python3"
  },
  "language_info": {
   "codemirror_mode": {
    "name": "ipython",
    "version": 3
   },
   "file_extension": ".py",
   "mimetype": "text/x-python",
   "name": "python",
   "nbconvert_exporter": "python",
   "pygments_lexer": "ipython3",
   "version": "3.9.6"
  }
 },
 "nbformat": 4,
 "nbformat_minor": 5
}
